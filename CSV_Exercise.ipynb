{
 "metadata": {
  "language_info": {
   "codemirror_mode": {
    "name": "ipython",
    "version": 3
   },
   "file_extension": ".py",
   "mimetype": "text/x-python",
   "name": "python",
   "nbconvert_exporter": "python",
   "pygments_lexer": "ipython3",
   "version": "3.9.5"
  },
  "orig_nbformat": 4,
  "kernelspec": {
   "name": "python3",
   "display_name": "Python 3.9.5 64-bit ('test': venv)"
  },
  "interpreter": {
   "hash": "6e088565f68c80b765fef4fa9b4800d8a9eeac28a25d5420050f0b493574d1dc"
  }
 },
 "nbformat": 4,
 "nbformat_minor": 2,
 "cells": [
  {
   "cell_type": "code",
   "execution_count": null,
   "metadata": {},
   "outputs": [],
   "source": [
    "import pandas as pd \n",
    "df=pd.read_csv(\"data.csv\")\n",
    "for x in range(df.shape[0]):\n",
    "    if df[\"Duration\"][x]<=45:\n",
    "        print(df.loc[x])"
   ]
  },
  {
   "cell_type": "code",
   "execution_count": null,
   "metadata": {},
   "outputs": [],
   "source": [
    "df=pd.read_csv(\"data2.csv\")\n",
    "new_df=df.dropna()\n",
    "print(new_df.to_string())"
   ]
  },
  {
   "cell_type": "code",
   "execution_count": null,
   "metadata": {},
   "outputs": [],
   "source": [
    "df=pd.read_csv(\"data2.csv\")\n",
    "print(df[\"Calories\"].fillna(0))"
   ]
  },
  {
   "cell_type": "code",
   "execution_count": 39,
   "metadata": {},
   "outputs": [
    {
     "output_type": "stream",
     "name": "stdout",
     "text": [
      "0      409.1\n1      479.0\n2      340.0\n3      282.4\n4      406.0\n       ...  \n164    290.8\n165    300.0\n166    310.2\n167    320.4\n168    330.4\nName: Calories, Length: 169, dtype: float64\n"
     ]
    }
   ],
   "source": [
    "df=pd.read_csv(\"data.csv\")\n",
    "for x in range(df.shape[0]):\n",
    "    if df[\"Duration\"][x]>=150:\n",
    "        df.loc[x,\"Duration\"]=150\n",
    "print(df[\"Calories\"].fillna(0))"
   ]
  },
  {
   "cell_type": "code",
   "execution_count": null,
   "metadata": {},
   "outputs": [],
   "source": []
  }
 ]
}