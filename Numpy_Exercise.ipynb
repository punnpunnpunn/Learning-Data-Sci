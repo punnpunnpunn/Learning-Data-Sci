{
 "cells": [
  {
   "cell_type": "code",
   "execution_count": 2,
   "metadata": {},
   "outputs": [
    {
     "name": "stdout",
     "output_type": "stream",
     "text": [
      "[1 2 3 4 5]\n",
      "[[ 1  2  3  4  5]\n",
      " [ 6  7  8  9 10]]\n",
      "1\n",
      "2\n",
      "[2 3 4]\n",
      "[7 8]\n",
      "(2, 5)\n"
     ]
    }
   ],
   "source": [
    "import numpy as np\n",
    "y=np.array([1,2,3,4,5])\n",
    "print(y)\n",
    "x=np.array([[1,2,3,4,5],[6,7,8,9,10]])\n",
    "print(x)\n",
    "print(x[0,0])\n",
    "print(x.ndim)\n",
    "print(y[1:4])\n",
    "print(x[1,1:3])\n",
    "print(x.shape)\n"
   ]
  },
  {
   "cell_type": "code",
   "execution_count": 3,
   "metadata": {},
   "outputs": [
    {
     "name": "stdout",
     "output_type": "stream",
     "text": [
      "[1. 2. 3.]\n"
     ]
    }
   ],
   "source": [
    "import numpy as np\n",
    "x=np.array([])\n",
    "for y in range (1,4):\n",
    "    x=np.append (x,y)\n",
    "print(x)"
   ]
  },
  {
   "cell_type": "code",
   "execution_count": 4,
   "metadata": {},
   "outputs": [
    {
     "name": "stdout",
     "output_type": "stream",
     "text": [
      "1\n",
      "2\n",
      "3\n",
      "4\n",
      "5\n",
      "6\n",
      "7\n",
      "8\n"
     ]
    }
   ],
   "source": [
    "import numpy as np\n",
    "arr=np.array([[[1,2],[3,4]],[[5,6],[7,8]]])\n",
    "for x in range (2):\n",
    "    for y in range (2):\n",
    "        for z in range (2):\n",
    "            print(arr[x,y,z])"
   ]
  },
  {
   "cell_type": "code",
   "execution_count": 5,
   "metadata": {},
   "outputs": [
    {
     "name": "stdout",
     "output_type": "stream",
     "text": [
      "[[26 33 95 40 18]\n",
      " [65 75 85 53 93]\n",
      " [50 41 16 77 47]]\n",
      "[[18. 26. 33. 40. 95.]\n",
      " [53. 65. 75. 85. 93.]\n",
      " [16. 41. 47. 50. 77.]]\n"
     ]
    }
   ],
   "source": [
    "from numpy import random\n",
    "x=random.randint(100,size=(3,5))\n",
    "print(x)\n",
    "list=[]\n",
    "for y in range(3):\n",
    "    list=np.append(list,np.sort(x[y]))\n",
    "list=list.reshape(3,5)\n",
    "print(list)"
   ]
  },
  {
   "cell_type": "code",
   "execution_count": 6,
   "metadata": {},
   "outputs": [
    {
     "name": "stdout",
     "output_type": "stream",
     "text": [
      "0[1 2 3]\n",
      "00[4 5 6]\n",
      "000[7 8 9]\n",
      "\n",
      "000[7 8 9]\n",
      "00[4 5 6]\n",
      "0[1 2 3]\n",
      "\n",
      "0 1 2 3 \n",
      "00 4 5 6 \n",
      "000 7 8 9 \n"
     ]
    }
   ],
   "source": [
    "array3=np.array([[1,2,3],[4,5,6],[7,8,9]])\n",
    "for x in range(3):\n",
    "    for y in range(x+1):\n",
    "        print(\"0\",end=\"\")\n",
    "    print(array3[x])\n",
    "print(\"\")\n",
    "for x in range(3,0,-1):\n",
    "    for y in range(x):\n",
    "        print(\"0\",end=\"\")\n",
    "    print(array3[x-1])\n",
    "print(\"\")\n",
    "for x in range(3):\n",
    "    for y in range(x+1):\n",
    "        print(\"0\",end=\"\")\n",
    "    print(\" \",end=\"\")\n",
    "    for y in range(3):\n",
    "        print(array3[x,y],end=\" \")\n",
    "    print(\"\")"
   ]
  }
 ],
 "metadata": {
  "interpreter": {
   "hash": "6e088565f68c80b765fef4fa9b4800d8a9eeac28a25d5420050f0b493574d1dc"
  },
  "kernelspec": {
   "display_name": "Python 3.9.5 64-bit ('test': venv)",
   "name": "python3"
  },
  "language_info": {
   "codemirror_mode": {
    "name": "ipython",
    "version": 3
   },
   "file_extension": ".py",
   "mimetype": "text/x-python",
   "name": "python",
   "nbconvert_exporter": "python",
   "pygments_lexer": "ipython3",
   "version": "3.9.5"
  },
  "orig_nbformat": 4
 },
 "nbformat": 4,
 "nbformat_minor": 2
}
