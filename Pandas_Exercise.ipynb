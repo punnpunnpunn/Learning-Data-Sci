{
 "metadata": {
  "language_info": {
   "codemirror_mode": {
    "name": "ipython",
    "version": 3
   },
   "file_extension": ".py",
   "mimetype": "text/x-python",
   "name": "python",
   "nbconvert_exporter": "python",
   "pygments_lexer": "ipython3",
   "version": "3.9.5"
  },
  "orig_nbformat": 4,
  "kernelspec": {
   "name": "python3",
   "display_name": "Python 3.9.5 64-bit ('test': venv)"
  },
  "interpreter": {
   "hash": "6e088565f68c80b765fef4fa9b4800d8a9eeac28a25d5420050f0b493574d1dc"
  }
 },
 "nbformat": 4,
 "nbformat_minor": 2,
 "cells": [
  {
   "cell_type": "code",
   "execution_count": 5,
   "source": [
    "import pandas as pd \r\n",
    "import numpy as np \r\n",
    "x=np.array([1,2,3,4])\r\n",
    "y=pd.Series(x,index=[\"a\",\"b\",\"c\",\"d\"])\r\n",
    "print(x)\r\n",
    "print(y)"
   ],
   "outputs": [
    {
     "output_type": "stream",
     "name": "stdout",
     "text": [
      "[1 2 3 4]\n",
      "a    1\n",
      "b    2\n",
      "c    3\n",
      "d    4\n",
      "dtype: int32\n"
     ]
    }
   ],
   "metadata": {}
  },
  {
   "cell_type": "code",
   "execution_count": 29,
   "source": [
    "s={\"Day 1\":420,\"Day 2\":380,\"Day 3\":390}\r\n",
    "x=pd.Series(s)\r\n",
    "print(x)"
   ],
   "outputs": [
    {
     "output_type": "stream",
     "name": "stdout",
     "text": [
      "Day 1    420\n",
      "Day 2    380\n",
      "Day 3    390\n",
      "dtype: int64\n"
     ]
    }
   ],
   "metadata": {}
  },
  {
   "cell_type": "code",
   "execution_count": 9,
   "source": [
    "data = {\r\n",
    "    \"coffee_shop\":[5,6,12,432,135,12,7,8],\r\n",
    "    \"7-11\":[23,251,164,1234,632,134,2,5]\r\n",
    "    }\r\n",
    "df=pd.DataFrame(data)\r\n",
    "\r\n",
    "ind = []\r\n",
    "for y in range (1,df.shape[0]+1):\r\n",
    "    ind.append(\"Day\"+str(y))\r\n",
    "x=pd.DataFrame(data,index = ind)\r\n",
    "print(x)\r\n"
   ],
   "outputs": [
    {
     "output_type": "stream",
     "name": "stdout",
     "text": [
      "      coffee_shop  7-11\n",
      "Day1            5    23\n",
      "Day2            6   251\n",
      "Day3           12   164\n",
      "Day4          432  1234\n",
      "Day5          135   632\n",
      "Day6           12   134\n",
      "Day7            7     2\n",
      "Day8            8     5\n"
     ]
    }
   ],
   "metadata": {}
  },
  {
   "cell_type": "code",
   "execution_count": 1,
   "source": [
    "import pandas as pd\r\n",
    "df = pd.read_csv('data.csv')\r\n",
    "print(df.head(1))\r\n",
    "print(df.tail(1))\r\n",
    "print(df.info())"
   ],
   "outputs": [
    {
     "output_type": "stream",
     "name": "stdout",
     "text": [
      "   Duration  Pulse  Maxpulse  Calories\n",
      "0        60    110       130     409.1\n",
      "     Duration  Pulse  Maxpulse  Calories\n",
      "168        75    125       150     330.4\n",
      "<class 'pandas.core.frame.DataFrame'>\n",
      "RangeIndex: 169 entries, 0 to 168\n",
      "Data columns (total 4 columns):\n",
      " #   Column    Non-Null Count  Dtype  \n",
      "---  ------    --------------  -----  \n",
      " 0   Duration  169 non-null    int64  \n",
      " 1   Pulse     169 non-null    int64  \n",
      " 2   Maxpulse  169 non-null    int64  \n",
      " 3   Calories  164 non-null    float64\n",
      "dtypes: float64(1), int64(3)\n",
      "memory usage: 5.4 KB\n",
      "None\n"
     ]
    }
   ],
   "metadata": {}
  }
 ]
}